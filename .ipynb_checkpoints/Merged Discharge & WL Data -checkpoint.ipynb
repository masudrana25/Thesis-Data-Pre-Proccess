{
 "cells": [
  {
   "cell_type": "code",
   "execution_count": 15,
   "id": "fe0135d1-d90f-4c6b-8013-4019194b41ae",
   "metadata": {},
   "outputs": [],
   "source": [
    "import pandas as pd"
   ]
  },
  {
   "cell_type": "code",
   "execution_count": 16,
   "id": "a639f930-c9ee-4942-acc0-a24c5bef5b2d",
   "metadata": {},
   "outputs": [
    {
     "data": {
      "text/html": [
       "<div>\n",
       "<style scoped>\n",
       "    .dataframe tbody tr th:only-of-type {\n",
       "        vertical-align: middle;\n",
       "    }\n",
       "\n",
       "    .dataframe tbody tr th {\n",
       "        vertical-align: top;\n",
       "    }\n",
       "\n",
       "    .dataframe thead th {\n",
       "        text-align: right;\n",
       "    }\n",
       "</style>\n",
       "<table border=\"1\" class=\"dataframe\">\n",
       "  <thead>\n",
       "    <tr style=\"text-align: right;\">\n",
       "      <th></th>\n",
       "      <th>Date</th>\n",
       "      <th>AVE_WL(m)</th>\n",
       "    </tr>\n",
       "  </thead>\n",
       "  <tbody>\n",
       "    <tr>\n",
       "      <th>0</th>\n",
       "      <td>1994-01-01</td>\n",
       "      <td>2.62</td>\n",
       "    </tr>\n",
       "    <tr>\n",
       "      <th>1</th>\n",
       "      <td>1994-01-02</td>\n",
       "      <td>2.61</td>\n",
       "    </tr>\n",
       "    <tr>\n",
       "      <th>2</th>\n",
       "      <td>1994-01-03</td>\n",
       "      <td>2.60</td>\n",
       "    </tr>\n",
       "    <tr>\n",
       "      <th>3</th>\n",
       "      <td>1994-01-04</td>\n",
       "      <td>2.60</td>\n",
       "    </tr>\n",
       "    <tr>\n",
       "      <th>4</th>\n",
       "      <td>1994-01-05</td>\n",
       "      <td>2.59</td>\n",
       "    </tr>\n",
       "  </tbody>\n",
       "</table>\n",
       "</div>"
      ],
      "text/plain": [
       "        Date  AVE_WL(m)\n",
       "0 1994-01-01       2.62\n",
       "1 1994-01-02       2.61\n",
       "2 1994-01-03       2.60\n",
       "3 1994-01-04       2.60\n",
       "4 1994-01-05       2.59"
      ]
     },
     "execution_count": 16,
     "metadata": {},
     "output_type": "execute_result"
    }
   ],
   "source": [
    "df1 = pd.read_excel('WL Pre-Proccessed Data .xlsx', index_col=0)\n",
    "df1.head()"
   ]
  },
  {
   "cell_type": "code",
   "execution_count": 17,
   "id": "7050f58b-4cf6-4664-8815-677dfe6ce130",
   "metadata": {},
   "outputs": [
    {
     "data": {
      "text/plain": [
       "(10957, 2)"
      ]
     },
     "execution_count": 17,
     "metadata": {},
     "output_type": "execute_result"
    }
   ],
   "source": [
    "df2 = pd.read_excel('All Date but not all Q data.xlsx', index_col=0)\n",
    "df2.head()\n",
    "df2.shape"
   ]
  },
  {
   "cell_type": "markdown",
   "id": "f51f29f0-7c19-41f7-b0a1-fbae947361a6",
   "metadata": {},
   "source": [
    "#common Q & WL data"
   ]
  },
  {
   "cell_type": "code",
   "execution_count": 18,
   "id": "022c9d7f-0a7b-4f53-895d-fb2f355edb89",
   "metadata": {},
   "outputs": [
    {
     "data": {
      "text/html": [
       "<div>\n",
       "<style scoped>\n",
       "    .dataframe tbody tr th:only-of-type {\n",
       "        vertical-align: middle;\n",
       "    }\n",
       "\n",
       "    .dataframe tbody tr th {\n",
       "        vertical-align: top;\n",
       "    }\n",
       "\n",
       "    .dataframe thead th {\n",
       "        text-align: right;\n",
       "    }\n",
       "</style>\n",
       "<table border=\"1\" class=\"dataframe\">\n",
       "  <thead>\n",
       "    <tr style=\"text-align: right;\">\n",
       "      <th></th>\n",
       "      <th>Date</th>\n",
       "      <th>AVE_WL(m)</th>\n",
       "      <th>MeanDailyDischarge(m3/s)</th>\n",
       "    </tr>\n",
       "  </thead>\n",
       "  <tbody>\n",
       "    <tr>\n",
       "      <th>0</th>\n",
       "      <td>1994-01-01</td>\n",
       "      <td>2.62</td>\n",
       "      <td>7.60</td>\n",
       "    </tr>\n",
       "    <tr>\n",
       "      <th>1</th>\n",
       "      <td>1994-01-02</td>\n",
       "      <td>2.61</td>\n",
       "      <td>7.54</td>\n",
       "    </tr>\n",
       "    <tr>\n",
       "      <th>2</th>\n",
       "      <td>1994-01-03</td>\n",
       "      <td>2.60</td>\n",
       "      <td>7.55</td>\n",
       "    </tr>\n",
       "    <tr>\n",
       "      <th>3</th>\n",
       "      <td>1994-01-04</td>\n",
       "      <td>2.60</td>\n",
       "      <td>7.57</td>\n",
       "    </tr>\n",
       "    <tr>\n",
       "      <th>4</th>\n",
       "      <td>1994-01-05</td>\n",
       "      <td>2.59</td>\n",
       "      <td>7.52</td>\n",
       "    </tr>\n",
       "    <tr>\n",
       "      <th>...</th>\n",
       "      <td>...</td>\n",
       "      <td>...</td>\n",
       "      <td>...</td>\n",
       "    </tr>\n",
       "    <tr>\n",
       "      <th>10952</th>\n",
       "      <td>2023-12-27</td>\n",
       "      <td>1.55</td>\n",
       "      <td>NaN</td>\n",
       "    </tr>\n",
       "    <tr>\n",
       "      <th>10953</th>\n",
       "      <td>2023-12-28</td>\n",
       "      <td>1.53</td>\n",
       "      <td>NaN</td>\n",
       "    </tr>\n",
       "    <tr>\n",
       "      <th>10954</th>\n",
       "      <td>2023-12-29</td>\n",
       "      <td>1.52</td>\n",
       "      <td>NaN</td>\n",
       "    </tr>\n",
       "    <tr>\n",
       "      <th>10955</th>\n",
       "      <td>2023-12-30</td>\n",
       "      <td>1.51</td>\n",
       "      <td>NaN</td>\n",
       "    </tr>\n",
       "    <tr>\n",
       "      <th>10956</th>\n",
       "      <td>2023-12-31</td>\n",
       "      <td>1.48</td>\n",
       "      <td>NaN</td>\n",
       "    </tr>\n",
       "  </tbody>\n",
       "</table>\n",
       "<p>10957 rows × 3 columns</p>\n",
       "</div>"
      ],
      "text/plain": [
       "            Date  AVE_WL(m)  MeanDailyDischarge(m3/s)\n",
       "0     1994-01-01       2.62                      7.60\n",
       "1     1994-01-02       2.61                      7.54\n",
       "2     1994-01-03       2.60                      7.55\n",
       "3     1994-01-04       2.60                      7.57\n",
       "4     1994-01-05       2.59                      7.52\n",
       "...          ...        ...                       ...\n",
       "10952 2023-12-27       1.55                       NaN\n",
       "10953 2023-12-28       1.53                       NaN\n",
       "10954 2023-12-29       1.52                       NaN\n",
       "10955 2023-12-30       1.51                       NaN\n",
       "10956 2023-12-31       1.48                       NaN\n",
       "\n",
       "[10957 rows x 3 columns]"
      ]
     },
     "execution_count": 18,
     "metadata": {},
     "output_type": "execute_result"
    }
   ],
   "source": [
    "df = pd.merge(df1, df2, on='Date')\n",
    "df"
   ]
  },
  {
   "cell_type": "code",
   "execution_count": 19,
   "id": "4cc6e76e-be1f-4664-9f2d-87ab1885311f",
   "metadata": {},
   "outputs": [],
   "source": [
    "df.to_excel('Common Q & WL data .xlsx')"
   ]
  },
  {
   "cell_type": "code",
   "execution_count": null,
   "id": "1e6784f0-8901-4586-8f7f-6115bd531998",
   "metadata": {},
   "outputs": [],
   "source": []
  },
  {
   "cell_type": "markdown",
   "id": "dfaea3da-7e37-4468-927d-53c432c38537",
   "metadata": {},
   "source": [
    "All Q & WL Data"
   ]
  },
  {
   "cell_type": "code",
   "execution_count": 20,
   "id": "62165547-9723-4513-b92b-8df1c2e3a81b",
   "metadata": {},
   "outputs": [
    {
     "data": {
      "text/html": [
       "<div>\n",
       "<style scoped>\n",
       "    .dataframe tbody tr th:only-of-type {\n",
       "        vertical-align: middle;\n",
       "    }\n",
       "\n",
       "    .dataframe tbody tr th {\n",
       "        vertical-align: top;\n",
       "    }\n",
       "\n",
       "    .dataframe thead th {\n",
       "        text-align: right;\n",
       "    }\n",
       "</style>\n",
       "<table border=\"1\" class=\"dataframe\">\n",
       "  <thead>\n",
       "    <tr style=\"text-align: right;\">\n",
       "      <th></th>\n",
       "      <th>Date</th>\n",
       "      <th>AVE_WL(m)</th>\n",
       "      <th>MeanDailyDischarge(m3/s)</th>\n",
       "    </tr>\n",
       "  </thead>\n",
       "  <tbody>\n",
       "    <tr>\n",
       "      <th>0</th>\n",
       "      <td>1994-01-01</td>\n",
       "      <td>2.62</td>\n",
       "      <td>7.60</td>\n",
       "    </tr>\n",
       "    <tr>\n",
       "      <th>1</th>\n",
       "      <td>1994-01-02</td>\n",
       "      <td>2.61</td>\n",
       "      <td>7.54</td>\n",
       "    </tr>\n",
       "    <tr>\n",
       "      <th>2</th>\n",
       "      <td>1994-01-03</td>\n",
       "      <td>2.60</td>\n",
       "      <td>7.55</td>\n",
       "    </tr>\n",
       "    <tr>\n",
       "      <th>3</th>\n",
       "      <td>1994-01-04</td>\n",
       "      <td>2.60</td>\n",
       "      <td>7.57</td>\n",
       "    </tr>\n",
       "    <tr>\n",
       "      <th>4</th>\n",
       "      <td>1994-01-05</td>\n",
       "      <td>2.59</td>\n",
       "      <td>7.52</td>\n",
       "    </tr>\n",
       "    <tr>\n",
       "      <th>...</th>\n",
       "      <td>...</td>\n",
       "      <td>...</td>\n",
       "      <td>...</td>\n",
       "    </tr>\n",
       "    <tr>\n",
       "      <th>10952</th>\n",
       "      <td>2023-12-27</td>\n",
       "      <td>1.55</td>\n",
       "      <td>NaN</td>\n",
       "    </tr>\n",
       "    <tr>\n",
       "      <th>10953</th>\n",
       "      <td>2023-12-28</td>\n",
       "      <td>1.53</td>\n",
       "      <td>NaN</td>\n",
       "    </tr>\n",
       "    <tr>\n",
       "      <th>10954</th>\n",
       "      <td>2023-12-29</td>\n",
       "      <td>1.52</td>\n",
       "      <td>NaN</td>\n",
       "    </tr>\n",
       "    <tr>\n",
       "      <th>10955</th>\n",
       "      <td>2023-12-30</td>\n",
       "      <td>1.51</td>\n",
       "      <td>NaN</td>\n",
       "    </tr>\n",
       "    <tr>\n",
       "      <th>10956</th>\n",
       "      <td>2023-12-31</td>\n",
       "      <td>1.48</td>\n",
       "      <td>NaN</td>\n",
       "    </tr>\n",
       "  </tbody>\n",
       "</table>\n",
       "<p>10957 rows × 3 columns</p>\n",
       "</div>"
      ],
      "text/plain": [
       "            Date  AVE_WL(m)  MeanDailyDischarge(m3/s)\n",
       "0     1994-01-01       2.62                      7.60\n",
       "1     1994-01-02       2.61                      7.54\n",
       "2     1994-01-03       2.60                      7.55\n",
       "3     1994-01-04       2.60                      7.57\n",
       "4     1994-01-05       2.59                      7.52\n",
       "...          ...        ...                       ...\n",
       "10952 2023-12-27       1.55                       NaN\n",
       "10953 2023-12-28       1.53                       NaN\n",
       "10954 2023-12-29       1.52                       NaN\n",
       "10955 2023-12-30       1.51                       NaN\n",
       "10956 2023-12-31       1.48                       NaN\n",
       "\n",
       "[10957 rows x 3 columns]"
      ]
     },
     "execution_count": 20,
     "metadata": {},
     "output_type": "execute_result"
    }
   ],
   "source": [
    "df2 = pd.merge(df1, df2, on='Date', how='outer')\n",
    "df2"
   ]
  },
  {
   "cell_type": "code",
   "execution_count": 21,
   "id": "576c196c-9a2d-4f5e-9527-dcba6b2e04cd",
   "metadata": {},
   "outputs": [],
   "source": [
    "df2.to_excel('All Q(with nan) & WL(all value included) data .xlsx')"
   ]
  },
  {
   "cell_type": "code",
   "execution_count": null,
   "id": "d10de744-955c-402d-82b8-3c5a662dd111",
   "metadata": {},
   "outputs": [],
   "source": []
  }
 ],
 "metadata": {
  "kernelspec": {
   "display_name": "Python 3 (ipykernel)",
   "language": "python",
   "name": "python3"
  },
  "language_info": {
   "codemirror_mode": {
    "name": "ipython",
    "version": 3
   },
   "file_extension": ".py",
   "mimetype": "text/x-python",
   "name": "python",
   "nbconvert_exporter": "python",
   "pygments_lexer": "ipython3",
   "version": "3.12.3"
  },
  "widgets": {
   "application/vnd.jupyter.widget-state+json": {
    "state": {},
    "version_major": 2,
    "version_minor": 0
   }
  }
 },
 "nbformat": 4,
 "nbformat_minor": 5
}
