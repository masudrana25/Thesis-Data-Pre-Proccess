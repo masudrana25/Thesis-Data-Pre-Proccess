{
 "cells": [
  {
   "cell_type": "code",
   "execution_count": 1,
   "id": "118547d2-9f65-486b-abf6-df24408d3cac",
   "metadata": {},
   "outputs": [],
   "source": [
    "import pandas as pd"
   ]
  },
  {
   "cell_type": "code",
   "execution_count": 3,
   "id": "6ebbee44-f36e-47bd-9c6c-d99e946c0ad3",
   "metadata": {},
   "outputs": [
    {
     "data": {
      "text/html": [
       "<div>\n",
       "<style scoped>\n",
       "    .dataframe tbody tr th:only-of-type {\n",
       "        vertical-align: middle;\n",
       "    }\n",
       "\n",
       "    .dataframe tbody tr th {\n",
       "        vertical-align: top;\n",
       "    }\n",
       "\n",
       "    .dataframe thead th {\n",
       "        text-align: right;\n",
       "    }\n",
       "</style>\n",
       "<table border=\"1\" class=\"dataframe\">\n",
       "  <thead>\n",
       "    <tr style=\"text-align: right;\">\n",
       "      <th></th>\n",
       "      <th>SL</th>\n",
       "      <th>DISTRICT</th>\n",
       "      <th>UPAZILA</th>\n",
       "      <th>STATION ID</th>\n",
       "      <th>STATION NAME</th>\n",
       "      <th>DATE</th>\n",
       "      <th>RAIN FALL(mm)</th>\n",
       "      <th>LATITUDE</th>\n",
       "      <th>LONGITUDE</th>\n",
       "    </tr>\n",
       "  </thead>\n",
       "  <tbody>\n",
       "    <tr>\n",
       "      <th>0</th>\n",
       "      <td>1</td>\n",
       "      <td>Sylhet</td>\n",
       "      <td>Sylhet Sadar</td>\n",
       "      <td>CL128</td>\n",
       "      <td>Sylhet</td>\n",
       "      <td>01-jan-1994</td>\n",
       "      <td>0.0</td>\n",
       "      <td>24.90674</td>\n",
       "      <td>91.87822</td>\n",
       "    </tr>\n",
       "    <tr>\n",
       "      <th>1</th>\n",
       "      <td>2</td>\n",
       "      <td>Sylhet</td>\n",
       "      <td>Sylhet Sadar</td>\n",
       "      <td>CL128</td>\n",
       "      <td>Sylhet</td>\n",
       "      <td>02-jan-1994</td>\n",
       "      <td>0.0</td>\n",
       "      <td>24.90674</td>\n",
       "      <td>91.87822</td>\n",
       "    </tr>\n",
       "    <tr>\n",
       "      <th>2</th>\n",
       "      <td>3</td>\n",
       "      <td>Sylhet</td>\n",
       "      <td>Sylhet Sadar</td>\n",
       "      <td>CL128</td>\n",
       "      <td>Sylhet</td>\n",
       "      <td>03-jan-1994</td>\n",
       "      <td>0.0</td>\n",
       "      <td>24.90674</td>\n",
       "      <td>91.87822</td>\n",
       "    </tr>\n",
       "    <tr>\n",
       "      <th>3</th>\n",
       "      <td>4</td>\n",
       "      <td>Sylhet</td>\n",
       "      <td>Sylhet Sadar</td>\n",
       "      <td>CL128</td>\n",
       "      <td>Sylhet</td>\n",
       "      <td>04-jan-1994</td>\n",
       "      <td>0.0</td>\n",
       "      <td>24.90674</td>\n",
       "      <td>91.87822</td>\n",
       "    </tr>\n",
       "    <tr>\n",
       "      <th>4</th>\n",
       "      <td>5</td>\n",
       "      <td>Sylhet</td>\n",
       "      <td>Sylhet Sadar</td>\n",
       "      <td>CL128</td>\n",
       "      <td>Sylhet</td>\n",
       "      <td>05-jan-1994</td>\n",
       "      <td>0.0</td>\n",
       "      <td>24.90674</td>\n",
       "      <td>91.87822</td>\n",
       "    </tr>\n",
       "  </tbody>\n",
       "</table>\n",
       "</div>"
      ],
      "text/plain": [
       "   SL DISTRICT       UPAZILA STATION ID STATION NAME         DATE  \\\n",
       "0   1   Sylhet  Sylhet Sadar      CL128       Sylhet  01-jan-1994   \n",
       "1   2   Sylhet  Sylhet Sadar      CL128       Sylhet  02-jan-1994   \n",
       "2   3   Sylhet  Sylhet Sadar      CL128       Sylhet  03-jan-1994   \n",
       "3   4   Sylhet  Sylhet Sadar      CL128       Sylhet  04-jan-1994   \n",
       "4   5   Sylhet  Sylhet Sadar      CL128       Sylhet  05-jan-1994   \n",
       "\n",
       "   RAIN FALL(mm)  LATITUDE  LONGITUDE  \n",
       "0            0.0  24.90674   91.87822  \n",
       "1            0.0  24.90674   91.87822  \n",
       "2            0.0  24.90674   91.87822  \n",
       "3            0.0  24.90674   91.87822  \n",
       "4            0.0  24.90674   91.87822  "
      ]
     },
     "execution_count": 3,
     "metadata": {},
     "output_type": "execute_result"
    }
   ],
   "source": [
    "rainfall_data = pd.read_excel('./Data/Rainfall Data.xlsx')\n",
    "rainfall_data.head()"
   ]
  },
  {
   "cell_type": "markdown",
   "id": "ba07e5b9-bb68-49d6-a1fd-ed3a9ba27d89",
   "metadata": {},
   "source": [
    "Date formate change"
   ]
  },
  {
   "cell_type": "code",
   "execution_count": 8,
   "id": "b662ba61-aa8f-4982-81c0-8b3e13de10dc",
   "metadata": {},
   "outputs": [
    {
     "name": "stderr",
     "output_type": "stream",
     "text": [
      "C:\\Users\\MASUD RANA\\AppData\\Local\\Temp\\ipykernel_2872\\3519054393.py:1: UserWarning: Could not infer format, so each element will be parsed individually, falling back to `dateutil`. To ensure parsing is consistent and as-expected, please specify a format.\n",
      "  rainfall_data['DATE'] = pd.to_datetime(rainfall_data['DATE'])\n"
     ]
    },
    {
     "data": {
      "text/html": [
       "<div>\n",
       "<style scoped>\n",
       "    .dataframe tbody tr th:only-of-type {\n",
       "        vertical-align: middle;\n",
       "    }\n",
       "\n",
       "    .dataframe tbody tr th {\n",
       "        vertical-align: top;\n",
       "    }\n",
       "\n",
       "    .dataframe thead th {\n",
       "        text-align: right;\n",
       "    }\n",
       "</style>\n",
       "<table border=\"1\" class=\"dataframe\">\n",
       "  <thead>\n",
       "    <tr style=\"text-align: right;\">\n",
       "      <th></th>\n",
       "      <th>SL</th>\n",
       "      <th>DISTRICT</th>\n",
       "      <th>UPAZILA</th>\n",
       "      <th>STATION ID</th>\n",
       "      <th>STATION NAME</th>\n",
       "      <th>DATE</th>\n",
       "      <th>RAIN FALL(mm)</th>\n",
       "      <th>LATITUDE</th>\n",
       "      <th>LONGITUDE</th>\n",
       "    </tr>\n",
       "  </thead>\n",
       "  <tbody>\n",
       "    <tr>\n",
       "      <th>0</th>\n",
       "      <td>1</td>\n",
       "      <td>Sylhet</td>\n",
       "      <td>Sylhet Sadar</td>\n",
       "      <td>CL128</td>\n",
       "      <td>Sylhet</td>\n",
       "      <td>1994-01-01</td>\n",
       "      <td>0.0</td>\n",
       "      <td>24.90674</td>\n",
       "      <td>91.87822</td>\n",
       "    </tr>\n",
       "    <tr>\n",
       "      <th>1</th>\n",
       "      <td>2</td>\n",
       "      <td>Sylhet</td>\n",
       "      <td>Sylhet Sadar</td>\n",
       "      <td>CL128</td>\n",
       "      <td>Sylhet</td>\n",
       "      <td>1994-01-02</td>\n",
       "      <td>0.0</td>\n",
       "      <td>24.90674</td>\n",
       "      <td>91.87822</td>\n",
       "    </tr>\n",
       "    <tr>\n",
       "      <th>2</th>\n",
       "      <td>3</td>\n",
       "      <td>Sylhet</td>\n",
       "      <td>Sylhet Sadar</td>\n",
       "      <td>CL128</td>\n",
       "      <td>Sylhet</td>\n",
       "      <td>1994-01-03</td>\n",
       "      <td>0.0</td>\n",
       "      <td>24.90674</td>\n",
       "      <td>91.87822</td>\n",
       "    </tr>\n",
       "    <tr>\n",
       "      <th>3</th>\n",
       "      <td>4</td>\n",
       "      <td>Sylhet</td>\n",
       "      <td>Sylhet Sadar</td>\n",
       "      <td>CL128</td>\n",
       "      <td>Sylhet</td>\n",
       "      <td>1994-01-04</td>\n",
       "      <td>0.0</td>\n",
       "      <td>24.90674</td>\n",
       "      <td>91.87822</td>\n",
       "    </tr>\n",
       "    <tr>\n",
       "      <th>4</th>\n",
       "      <td>5</td>\n",
       "      <td>Sylhet</td>\n",
       "      <td>Sylhet Sadar</td>\n",
       "      <td>CL128</td>\n",
       "      <td>Sylhet</td>\n",
       "      <td>1994-01-05</td>\n",
       "      <td>0.0</td>\n",
       "      <td>24.90674</td>\n",
       "      <td>91.87822</td>\n",
       "    </tr>\n",
       "  </tbody>\n",
       "</table>\n",
       "</div>"
      ],
      "text/plain": [
       "   SL DISTRICT       UPAZILA STATION ID STATION NAME       DATE  \\\n",
       "0   1   Sylhet  Sylhet Sadar      CL128       Sylhet 1994-01-01   \n",
       "1   2   Sylhet  Sylhet Sadar      CL128       Sylhet 1994-01-02   \n",
       "2   3   Sylhet  Sylhet Sadar      CL128       Sylhet 1994-01-03   \n",
       "3   4   Sylhet  Sylhet Sadar      CL128       Sylhet 1994-01-04   \n",
       "4   5   Sylhet  Sylhet Sadar      CL128       Sylhet 1994-01-05   \n",
       "\n",
       "   RAIN FALL(mm)  LATITUDE  LONGITUDE  \n",
       "0            0.0  24.90674   91.87822  \n",
       "1            0.0  24.90674   91.87822  \n",
       "2            0.0  24.90674   91.87822  \n",
       "3            0.0  24.90674   91.87822  \n",
       "4            0.0  24.90674   91.87822  "
      ]
     },
     "execution_count": 8,
     "metadata": {},
     "output_type": "execute_result"
    }
   ],
   "source": [
    "rainfall_data['DATE'] = pd.to_datetime(rainfall_data['DATE'])\n",
    "rainfall_data.head()"
   ]
  },
  {
   "cell_type": "code",
   "execution_count": 16,
   "id": "d302db22-2d95-4ee2-885e-513f8de3e3b9",
   "metadata": {},
   "outputs": [
    {
     "data": {
      "text/html": [
       "<div>\n",
       "<style scoped>\n",
       "    .dataframe tbody tr th:only-of-type {\n",
       "        vertical-align: middle;\n",
       "    }\n",
       "\n",
       "    .dataframe tbody tr th {\n",
       "        vertical-align: top;\n",
       "    }\n",
       "\n",
       "    .dataframe thead th {\n",
       "        text-align: right;\n",
       "    }\n",
       "</style>\n",
       "<table border=\"1\" class=\"dataframe\">\n",
       "  <thead>\n",
       "    <tr style=\"text-align: right;\">\n",
       "      <th></th>\n",
       "      <th>DATE</th>\n",
       "      <th>RAIN FALL(mm)</th>\n",
       "    </tr>\n",
       "  </thead>\n",
       "  <tbody>\n",
       "    <tr>\n",
       "      <th>0</th>\n",
       "      <td>1994-01-01</td>\n",
       "      <td>0.0</td>\n",
       "    </tr>\n",
       "    <tr>\n",
       "      <th>1</th>\n",
       "      <td>1994-01-02</td>\n",
       "      <td>0.0</td>\n",
       "    </tr>\n",
       "    <tr>\n",
       "      <th>2</th>\n",
       "      <td>1994-01-03</td>\n",
       "      <td>0.0</td>\n",
       "    </tr>\n",
       "    <tr>\n",
       "      <th>3</th>\n",
       "      <td>1994-01-04</td>\n",
       "      <td>0.0</td>\n",
       "    </tr>\n",
       "    <tr>\n",
       "      <th>4</th>\n",
       "      <td>1994-01-05</td>\n",
       "      <td>0.0</td>\n",
       "    </tr>\n",
       "  </tbody>\n",
       "</table>\n",
       "</div>"
      ],
      "text/plain": [
       "        DATE  RAIN FALL(mm)\n",
       "0 1994-01-01            0.0\n",
       "1 1994-01-02            0.0\n",
       "2 1994-01-03            0.0\n",
       "3 1994-01-04            0.0\n",
       "4 1994-01-05            0.0"
      ]
     },
     "execution_count": 16,
     "metadata": {},
     "output_type": "execute_result"
    }
   ],
   "source": [
    "need_data = rainfall_data.iloc[ :, [5,6] ]\n",
    "need_data.head()"
   ]
  },
  {
   "cell_type": "code",
   "execution_count": 17,
   "id": "0db27447-a258-41a8-94cc-6cda67a0e3e5",
   "metadata": {},
   "outputs": [
    {
     "data": {
      "text/plain": [
       "(10921, 2)"
      ]
     },
     "execution_count": 17,
     "metadata": {},
     "output_type": "execute_result"
    }
   ],
   "source": [
    "need_data.shape"
   ]
  },
  {
   "cell_type": "code",
   "execution_count": 19,
   "id": "f8d7e663-66ed-4b80-a688-e373aaad3867",
   "metadata": {},
   "outputs": [],
   "source": [
    "need_data.to_excel('Date & Rainfall .xlsx') "
   ]
  },
  {
   "cell_type": "code",
   "execution_count": null,
   "id": "61fffdd2-19ee-4734-a578-36b9feff77b2",
   "metadata": {},
   "outputs": [],
   "source": []
  }
 ],
 "metadata": {
  "kernelspec": {
   "display_name": "Python 3 (ipykernel)",
   "language": "python",
   "name": "python3"
  },
  "language_info": {
   "codemirror_mode": {
    "name": "ipython",
    "version": 3
   },
   "file_extension": ".py",
   "mimetype": "text/x-python",
   "name": "python",
   "nbconvert_exporter": "python",
   "pygments_lexer": "ipython3",
   "version": "3.12.3"
  },
  "widgets": {
   "application/vnd.jupyter.widget-state+json": {
    "state": {},
    "version_major": 2,
    "version_minor": 0
   }
  }
 },
 "nbformat": 4,
 "nbformat_minor": 5
}
