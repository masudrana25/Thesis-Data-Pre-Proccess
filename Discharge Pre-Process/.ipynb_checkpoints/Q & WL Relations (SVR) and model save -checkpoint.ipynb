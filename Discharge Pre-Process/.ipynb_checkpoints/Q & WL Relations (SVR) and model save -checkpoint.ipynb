{
 "cells": [
  {
   "cell_type": "code",
   "execution_count": 1,
   "id": "944a126f-ae5b-4b9b-b95a-d4c5e6bcfb12",
   "metadata": {},
   "outputs": [],
   "source": [
    "import pandas as pd\n",
    "import numpy as np\n",
    "import matplotlib.pyplot as plt\n",
    "from sklearn.model_selection import train_test_split\n",
    "from sklearn.svm import SVR"
   ]
  },
  {
   "cell_type": "code",
   "execution_count": 2,
   "id": "121d8da1-987f-47f4-8922-ecb353d10f28",
   "metadata": {},
   "outputs": [
    {
     "data": {
      "text/html": [
       "<div>\n",
       "<style scoped>\n",
       "    .dataframe tbody tr th:only-of-type {\n",
       "        vertical-align: middle;\n",
       "    }\n",
       "\n",
       "    .dataframe tbody tr th {\n",
       "        vertical-align: top;\n",
       "    }\n",
       "\n",
       "    .dataframe thead th {\n",
       "        text-align: right;\n",
       "    }\n",
       "</style>\n",
       "<table border=\"1\" class=\"dataframe\">\n",
       "  <thead>\n",
       "    <tr style=\"text-align: right;\">\n",
       "      <th></th>\n",
       "      <th>Date</th>\n",
       "      <th>MeanDailyDischarge(m3/s)</th>\n",
       "      <th>AVE_WL(m)</th>\n",
       "    </tr>\n",
       "  </thead>\n",
       "  <tbody>\n",
       "    <tr>\n",
       "      <th>0</th>\n",
       "      <td>1994-01-01</td>\n",
       "      <td>7.60</td>\n",
       "      <td>2.62</td>\n",
       "    </tr>\n",
       "    <tr>\n",
       "      <th>1</th>\n",
       "      <td>1994-01-02</td>\n",
       "      <td>7.54</td>\n",
       "      <td>2.61</td>\n",
       "    </tr>\n",
       "    <tr>\n",
       "      <th>2</th>\n",
       "      <td>1994-01-03</td>\n",
       "      <td>7.55</td>\n",
       "      <td>2.60</td>\n",
       "    </tr>\n",
       "    <tr>\n",
       "      <th>3</th>\n",
       "      <td>1994-01-04</td>\n",
       "      <td>7.57</td>\n",
       "      <td>2.60</td>\n",
       "    </tr>\n",
       "    <tr>\n",
       "      <th>4</th>\n",
       "      <td>1994-01-05</td>\n",
       "      <td>7.52</td>\n",
       "      <td>2.59</td>\n",
       "    </tr>\n",
       "    <tr>\n",
       "      <th>...</th>\n",
       "      <td>...</td>\n",
       "      <td>...</td>\n",
       "      <td>...</td>\n",
       "    </tr>\n",
       "    <tr>\n",
       "      <th>7861</th>\n",
       "      <td>2021-12-27</td>\n",
       "      <td>29.28</td>\n",
       "      <td>1.72</td>\n",
       "    </tr>\n",
       "    <tr>\n",
       "      <th>7862</th>\n",
       "      <td>2021-12-28</td>\n",
       "      <td>28.42</td>\n",
       "      <td>1.69</td>\n",
       "    </tr>\n",
       "    <tr>\n",
       "      <th>7863</th>\n",
       "      <td>2021-12-29</td>\n",
       "      <td>27.92</td>\n",
       "      <td>1.68</td>\n",
       "    </tr>\n",
       "    <tr>\n",
       "      <th>7864</th>\n",
       "      <td>2021-12-30</td>\n",
       "      <td>27.36</td>\n",
       "      <td>1.66</td>\n",
       "    </tr>\n",
       "    <tr>\n",
       "      <th>7865</th>\n",
       "      <td>2021-12-31</td>\n",
       "      <td>26.49</td>\n",
       "      <td>1.62</td>\n",
       "    </tr>\n",
       "  </tbody>\n",
       "</table>\n",
       "<p>7866 rows × 3 columns</p>\n",
       "</div>"
      ],
      "text/plain": [
       "           Date  MeanDailyDischarge(m3/s)  AVE_WL(m)\n",
       "0    1994-01-01                      7.60       2.62\n",
       "1    1994-01-02                      7.54       2.61\n",
       "2    1994-01-03                      7.55       2.60\n",
       "3    1994-01-04                      7.57       2.60\n",
       "4    1994-01-05                      7.52       2.59\n",
       "...         ...                       ...        ...\n",
       "7861 2021-12-27                     29.28       1.72\n",
       "7862 2021-12-28                     28.42       1.69\n",
       "7863 2021-12-29                     27.92       1.68\n",
       "7864 2021-12-30                     27.36       1.66\n",
       "7865 2021-12-31                     26.49       1.62\n",
       "\n",
       "[7866 rows x 3 columns]"
      ]
     },
     "execution_count": 2,
     "metadata": {},
     "output_type": "execute_result"
    }
   ],
   "source": [
    "df = pd.read_excel('Common Q & WL data .xlsx', index_col=0)\n",
    "df"
   ]
  },
  {
   "cell_type": "code",
   "execution_count": 3,
   "id": "04ec60c6-929d-44bd-93fa-f0d6a69bf415",
   "metadata": {},
   "outputs": [
    {
     "data": {
      "text/html": [
       "<div>\n",
       "<style scoped>\n",
       "    .dataframe tbody tr th:only-of-type {\n",
       "        vertical-align: middle;\n",
       "    }\n",
       "\n",
       "    .dataframe tbody tr th {\n",
       "        vertical-align: top;\n",
       "    }\n",
       "\n",
       "    .dataframe thead th {\n",
       "        text-align: right;\n",
       "    }\n",
       "</style>\n",
       "<table border=\"1\" class=\"dataframe\">\n",
       "  <thead>\n",
       "    <tr style=\"text-align: right;\">\n",
       "      <th></th>\n",
       "      <th>AVE_WL(m)</th>\n",
       "    </tr>\n",
       "  </thead>\n",
       "  <tbody>\n",
       "    <tr>\n",
       "      <th>0</th>\n",
       "      <td>2.62</td>\n",
       "    </tr>\n",
       "    <tr>\n",
       "      <th>1</th>\n",
       "      <td>2.61</td>\n",
       "    </tr>\n",
       "    <tr>\n",
       "      <th>2</th>\n",
       "      <td>2.60</td>\n",
       "    </tr>\n",
       "    <tr>\n",
       "      <th>3</th>\n",
       "      <td>2.60</td>\n",
       "    </tr>\n",
       "    <tr>\n",
       "      <th>4</th>\n",
       "      <td>2.59</td>\n",
       "    </tr>\n",
       "    <tr>\n",
       "      <th>...</th>\n",
       "      <td>...</td>\n",
       "    </tr>\n",
       "    <tr>\n",
       "      <th>7861</th>\n",
       "      <td>1.72</td>\n",
       "    </tr>\n",
       "    <tr>\n",
       "      <th>7862</th>\n",
       "      <td>1.69</td>\n",
       "    </tr>\n",
       "    <tr>\n",
       "      <th>7863</th>\n",
       "      <td>1.68</td>\n",
       "    </tr>\n",
       "    <tr>\n",
       "      <th>7864</th>\n",
       "      <td>1.66</td>\n",
       "    </tr>\n",
       "    <tr>\n",
       "      <th>7865</th>\n",
       "      <td>1.62</td>\n",
       "    </tr>\n",
       "  </tbody>\n",
       "</table>\n",
       "<p>7866 rows × 1 columns</p>\n",
       "</div>"
      ],
      "text/plain": [
       "      AVE_WL(m)\n",
       "0          2.62\n",
       "1          2.61\n",
       "2          2.60\n",
       "3          2.60\n",
       "4          2.59\n",
       "...         ...\n",
       "7861       1.72\n",
       "7862       1.69\n",
       "7863       1.68\n",
       "7864       1.66\n",
       "7865       1.62\n",
       "\n",
       "[7866 rows x 1 columns]"
      ]
     },
     "execution_count": 3,
     "metadata": {},
     "output_type": "execute_result"
    }
   ],
   "source": [
    "x= df.drop('Date', axis=1)\n",
    "inputs = x.drop(['MeanDailyDischarge(m3/s)'], axis=1)\n",
    "inputs"
   ]
  },
  {
   "cell_type": "code",
   "execution_count": 4,
   "id": "6b5539f7-1a68-4a58-91df-b087c4cb7d8f",
   "metadata": {},
   "outputs": [
    {
     "data": {
      "text/plain": [
       "0        7.60\n",
       "1        7.54\n",
       "2        7.55\n",
       "3        7.57\n",
       "4        7.52\n",
       "        ...  \n",
       "7861    29.28\n",
       "7862    28.42\n",
       "7863    27.92\n",
       "7864    27.36\n",
       "7865    26.49\n",
       "Name: MeanDailyDischarge(m3/s), Length: 7866, dtype: float64"
      ]
     },
     "execution_count": 4,
     "metadata": {},
     "output_type": "execute_result"
    }
   ],
   "source": [
    "target = df['MeanDailyDischarge(m3/s)']\n",
    "target"
   ]
  },
  {
   "cell_type": "markdown",
   "id": "356dce23-f98a-4bd8-b3dd-cf5649609c4a",
   "metadata": {},
   "source": [
    "#Devide Data"
   ]
  },
  {
   "cell_type": "code",
   "execution_count": 5,
   "id": "e6c00d8e-8371-47ca-8676-275128921cf5",
   "metadata": {},
   "outputs": [],
   "source": [
    "x_train, x_test, y_train, y_test = train_test_split(inputs, target, test_size =0.03)"
   ]
  },
  {
   "cell_type": "code",
   "execution_count": 6,
   "id": "d29bc637-f5f7-433b-8fd7-0278be1e34e2",
   "metadata": {},
   "outputs": [
    {
     "data": {
      "text/html": [
       "<div>\n",
       "<style scoped>\n",
       "    .dataframe tbody tr th:only-of-type {\n",
       "        vertical-align: middle;\n",
       "    }\n",
       "\n",
       "    .dataframe tbody tr th {\n",
       "        vertical-align: top;\n",
       "    }\n",
       "\n",
       "    .dataframe thead th {\n",
       "        text-align: right;\n",
       "    }\n",
       "</style>\n",
       "<table border=\"1\" class=\"dataframe\">\n",
       "  <thead>\n",
       "    <tr style=\"text-align: right;\">\n",
       "      <th></th>\n",
       "      <th>AVE_WL(m)</th>\n",
       "    </tr>\n",
       "  </thead>\n",
       "  <tbody>\n",
       "    <tr>\n",
       "      <th>3937</th>\n",
       "      <td>4.95</td>\n",
       "    </tr>\n",
       "    <tr>\n",
       "      <th>5989</th>\n",
       "      <td>7.62</td>\n",
       "    </tr>\n",
       "    <tr>\n",
       "      <th>382</th>\n",
       "      <td>5.93</td>\n",
       "    </tr>\n",
       "    <tr>\n",
       "      <th>5368</th>\n",
       "      <td>2.38</td>\n",
       "    </tr>\n",
       "    <tr>\n",
       "      <th>3003</th>\n",
       "      <td>10.98</td>\n",
       "    </tr>\n",
       "    <tr>\n",
       "      <th>...</th>\n",
       "      <td>...</td>\n",
       "    </tr>\n",
       "    <tr>\n",
       "      <th>4508</th>\n",
       "      <td>7.67</td>\n",
       "    </tr>\n",
       "    <tr>\n",
       "      <th>3360</th>\n",
       "      <td>10.14</td>\n",
       "    </tr>\n",
       "    <tr>\n",
       "      <th>5478</th>\n",
       "      <td>10.36</td>\n",
       "    </tr>\n",
       "    <tr>\n",
       "      <th>4850</th>\n",
       "      <td>7.56</td>\n",
       "    </tr>\n",
       "    <tr>\n",
       "      <th>1752</th>\n",
       "      <td>3.82</td>\n",
       "    </tr>\n",
       "  </tbody>\n",
       "</table>\n",
       "<p>236 rows × 1 columns</p>\n",
       "</div>"
      ],
      "text/plain": [
       "      AVE_WL(m)\n",
       "3937       4.95\n",
       "5989       7.62\n",
       "382        5.93\n",
       "5368       2.38\n",
       "3003      10.98\n",
       "...         ...\n",
       "4508       7.67\n",
       "3360      10.14\n",
       "5478      10.36\n",
       "4850       7.56\n",
       "1752       3.82\n",
       "\n",
       "[236 rows x 1 columns]"
      ]
     },
     "execution_count": 6,
     "metadata": {},
     "output_type": "execute_result"
    }
   ],
   "source": [
    "x_test"
   ]
  },
  {
   "cell_type": "markdown",
   "id": "4d29eca0-ca22-40e8-bfdc-7bbd21273d21",
   "metadata": {},
   "source": [
    "#Model Setup"
   ]
  },
  {
   "cell_type": "code",
   "execution_count": 7,
   "id": "4ffcee18-6652-4269-a305-999d5ad12087",
   "metadata": {},
   "outputs": [],
   "source": [
    "model_rbf = SVR(kernel='rbf')\n",
    "model_linear = SVR(kernel = 'linear')\n",
    "model_poly2 = SVR(kernel='poly', degree = 2)\n",
    "model_poly3 = SVR(kernel='poly', degree = 3)\n",
    "model_poly4 = SVR(kernel='poly', degree = 4)\n",
    "model_poly5 = SVR(kernel='poly', degree = 5)"
   ]
  },
  {
   "cell_type": "markdown",
   "id": "e862b0c0-a84b-4d1f-adf1-dc039fcdaec5",
   "metadata": {},
   "source": [
    "#Fit model"
   ]
  },
  {
   "cell_type": "code",
   "execution_count": 8,
   "id": "70f6340e-0369-4464-a496-df952de864ea",
   "metadata": {},
   "outputs": [
    {
     "data": {
      "text/plain": [
       "0.9228171345748024"
      ]
     },
     "execution_count": 8,
     "metadata": {},
     "output_type": "execute_result"
    }
   ],
   "source": [
    "model_rbf.fit(x_train, y_train)\n",
    "model_rbf.score(x_test, y_test)"
   ]
  },
  {
   "cell_type": "code",
   "execution_count": 9,
   "id": "77480df4-e9f8-455f-a546-38bcafea341b",
   "metadata": {},
   "outputs": [
    {
     "data": {
      "text/plain": [
       "0.8524556651613638"
      ]
     },
     "execution_count": 9,
     "metadata": {},
     "output_type": "execute_result"
    }
   ],
   "source": [
    "model_linear.fit(x_train, y_train)\n",
    "model_linear.score(x_test, y_test)"
   ]
  },
  {
   "cell_type": "code",
   "execution_count": 10,
   "id": "144f312f-8385-42c6-bb7f-f31c1ba0f483",
   "metadata": {},
   "outputs": [
    {
     "data": {
      "text/plain": [
       "0.9211027883949735"
      ]
     },
     "execution_count": 10,
     "metadata": {},
     "output_type": "execute_result"
    }
   ],
   "source": [
    "model_poly2.fit(x_train, y_train)\n",
    "model_poly2.score(x_test, y_test)"
   ]
  },
  {
   "cell_type": "code",
   "execution_count": 11,
   "id": "fe78333f-a0bc-4809-ab62-e95c0ff909bf",
   "metadata": {},
   "outputs": [
    {
     "data": {
      "text/plain": [
       "0.9365021338025596"
      ]
     },
     "execution_count": 11,
     "metadata": {},
     "output_type": "execute_result"
    }
   ],
   "source": [
    "#3-degree polynomial model is More Accurate than other model\n",
    "model_poly3.fit(x_train, y_train)\n",
    "model_poly3.score(x_test, y_test)"
   ]
  },
  {
   "cell_type": "code",
   "execution_count": 12,
   "id": "1ffba838-a183-485a-9fcb-3c68fd63b4f0",
   "metadata": {},
   "outputs": [
    {
     "data": {
      "text/plain": [
       "0.9191034719068787"
      ]
     },
     "execution_count": 12,
     "metadata": {},
     "output_type": "execute_result"
    }
   ],
   "source": [
    "model_poly4.fit(x_train, y_train)\n",
    "model_poly4.score(x_test, y_test)"
   ]
  },
  {
   "cell_type": "code",
   "execution_count": 13,
   "id": "3b5429ca-5ae7-4344-a5e1-e70bbb537bdf",
   "metadata": {},
   "outputs": [
    {
     "data": {
      "text/plain": [
       "0.8868458800293353"
      ]
     },
     "execution_count": 13,
     "metadata": {},
     "output_type": "execute_result"
    }
   ],
   "source": [
    "model_poly5.fit(x_train, y_train)\n",
    "model_poly5.score(x_test, y_test)"
   ]
  },
  {
   "cell_type": "code",
   "execution_count": 14,
   "id": "139719a4-3bd2-4d75-bc2d-525d1978bdb4",
   "metadata": {},
   "outputs": [
    {
     "name": "stderr",
     "output_type": "stream",
     "text": [
      "C:\\Users\\MASUD RANA\\AppData\\Local\\Programs\\Python\\Python312\\Lib\\site-packages\\sklearn\\base.py:493: UserWarning: X does not have valid feature names, but SVR was fitted with feature names\n",
      "  warnings.warn(\n"
     ]
    },
    {
     "data": {
      "text/plain": [
       "array([471.70254041])"
      ]
     },
     "execution_count": 14,
     "metadata": {},
     "output_type": "execute_result"
    }
   ],
   "source": [
    "y_predict = model_poly3.predict([[7.3]])\n",
    "y_predict"
   ]
  },
  {
   "cell_type": "code",
   "execution_count": 28,
   "id": "3282d303-9bf4-45ed-9288-27ae81babd1b",
   "metadata": {},
   "outputs": [],
   "source": [
    "import joblib"
   ]
  },
  {
   "cell_type": "code",
   "execution_count": 30,
   "id": "dff87c4b-a162-4785-a4d8-96f79e330fb7",
   "metadata": {},
   "outputs": [
    {
     "data": {
      "text/plain": [
       "['SVR_Model_polynomial_of_3_degree.pkl']"
      ]
     },
     "execution_count": 30,
     "metadata": {},
     "output_type": "execute_result"
    }
   ],
   "source": [
    "# Save the trained model to a file\n",
    "joblib_file = \"SVR_Model_polynomial_of_3_degree.pkl\"  # Update with your desired file name\n",
    "joblib.dump(model_poly3, joblib_file)"
   ]
  },
  {
   "cell_type": "code",
   "execution_count": 31,
   "id": "9e36bbd5-fb9d-49c0-9a9a-635559c0b346",
   "metadata": {},
   "outputs": [],
   "source": [
    "model_3 = joblib.load('SVR_Model_polynomial_of_3_degree.pkl')"
   ]
  },
  {
   "cell_type": "code",
   "execution_count": 32,
   "id": "1e32204b-9654-4d26-9a0c-17f6571ca738",
   "metadata": {},
   "outputs": [
    {
     "name": "stderr",
     "output_type": "stream",
     "text": [
      "C:\\Users\\MASUD RANA\\AppData\\Local\\Programs\\Python\\Python312\\Lib\\site-packages\\sklearn\\base.py:493: UserWarning: X does not have valid feature names, but SVR was fitted with feature names\n",
      "  warnings.warn(\n"
     ]
    },
    {
     "data": {
      "text/plain": [
       "array([623.88283855])"
      ]
     },
     "execution_count": 32,
     "metadata": {},
     "output_type": "execute_result"
    }
   ],
   "source": [
    "model_3.predict([[8]])"
   ]
  },
  {
   "cell_type": "code",
   "execution_count": null,
   "id": "b8458849-d3af-4659-9ebe-4daab1283f4d",
   "metadata": {},
   "outputs": [],
   "source": []
  }
 ],
 "metadata": {
  "kernelspec": {
   "display_name": "Python 3 (ipykernel)",
   "language": "python",
   "name": "python3"
  },
  "language_info": {
   "codemirror_mode": {
    "name": "ipython",
    "version": 3
   },
   "file_extension": ".py",
   "mimetype": "text/x-python",
   "name": "python",
   "nbconvert_exporter": "python",
   "pygments_lexer": "ipython3",
   "version": "3.12.3"
  },
  "widgets": {
   "application/vnd.jupyter.widget-state+json": {
    "state": {},
    "version_major": 2,
    "version_minor": 0
   }
  }
 },
 "nbformat": 4,
 "nbformat_minor": 5
}
