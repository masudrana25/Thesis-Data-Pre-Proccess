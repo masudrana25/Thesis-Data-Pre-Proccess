{
 "cells": [
  {
   "cell_type": "code",
   "execution_count": 1,
   "id": "92d4044f-4ac7-4acc-b309-599de2beba4a",
   "metadata": {},
   "outputs": [
    {
     "name": "stdout",
     "output_type": "stream",
     "text": [
      "Updated data saved to Updated_Discharge_Data.xlsx\n"
     ]
    }
   ],
   "source": [
    "import pandas as pd\n",
    "import joblib\n",
    "\n",
    "# Load the Excel file\n",
    "file_path = 'Date, all WL, some Q .xlsx'\n",
    "df = pd.read_excel(file_path)\n",
    "\n",
    "# Load the pre-trained SVR model\n",
    "model_path = 'SVR_Model_polynomial_of_3_degree.pkl'\n",
    "model = joblib.load(model_path)\n",
    "\n",
    "# Fill missing discharge data using the model\n",
    "# Assuming 'Water Level' column is named 'WL' and 'Discharge' column is named 'Q'\n",
    "missing_indices = df[df['MeanDailyDischarge(m3/s)'].isnull()].index\n",
    "df.loc[missing_indices, 'MeanDailyDischarge(m3/s)'] = model.predict(df.loc[missing_indices, ['AVE_WL(m)']])\n",
    "\n",
    "# Save the updated data to a new Excel file\n",
    "output_path = 'Updated_Discharge_Data.xlsx'\n",
    "df.to_excel(output_path, index=False)\n",
    "\n",
    "print(f\"Updated data saved to {output_path}\")\n"
   ]
  },
  {
   "cell_type": "code",
   "execution_count": null,
   "id": "601528e4-83d2-49a9-a61f-c168b16bfe12",
   "metadata": {},
   "outputs": [],
   "source": []
  }
 ],
 "metadata": {
  "kernelspec": {
   "display_name": "Python 3 (ipykernel)",
   "language": "python",
   "name": "python3"
  },
  "language_info": {
   "codemirror_mode": {
    "name": "ipython",
    "version": 3
   },
   "file_extension": ".py",
   "mimetype": "text/x-python",
   "name": "python",
   "nbconvert_exporter": "python",
   "pygments_lexer": "ipython3",
   "version": "3.12.3"
  },
  "widgets": {
   "application/vnd.jupyter.widget-state+json": {
    "state": {},
    "version_major": 2,
    "version_minor": 0
   }
  }
 },
 "nbformat": 4,
 "nbformat_minor": 5
}
